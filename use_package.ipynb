{
 "cells": [
  {
   "cell_type": "code",
   "execution_count": 2,
   "metadata": {},
   "outputs": [
    {
     "name": "stdout",
     "output_type": "stream",
     "text": [
      "contoh teks diproses\n"
     ]
    }
   ],
   "source": [
    "from normalisasitext import text_preprocessing\n",
    "\n",
    "text = \"Ini adalah contoh teks untuk diproses.\"\n",
    "processed_text = text_preprocessing(text)\n",
    "print(processed_text)\n"
   ]
  },
  {
   "cell_type": "code",
   "execution_count": 4,
   "metadata": {},
   "outputs": [
    {
     "name": "stdout",
     "output_type": "stream",
     "text": [
      "                                                    Text  Sentimen  \\\n",
      "0      warung ini dimiliki oleh pengusaha pabrik tahu...  positive   \n",
      "1      mohon ulama lurus dan k212 mmbri hujjah partai...   neutral   \n",
      "2      lokasi strategis di jalan sumatera bandung . t...  positive   \n",
      "3      betapa bahagia nya diri ini saat unboxing pake...  positive   \n",
      "4      duh . jadi mahasiswa jangan sombong dong . kas...  negative   \n",
      "...                                                  ...       ...   \n",
      "10995                                       tidak kecewa  positive   \n",
      "10996  enak rasa masakan nya apalagi kepiting yang me...  positive   \n",
      "10997        hormati partai-partai yang telah berkoalisi   neutral   \n",
      "10998  pagi pagi di tol pasteur sudah macet parah , b...  negative   \n",
      "10999  meskipun sering belanja ke yogya di riau junct...  positive   \n",
      "\n",
      "                                               Text_baru  \n",
      "0      warung dimiliki pengusaha pabrik puluhan terke...  \n",
      "1      mohon ulama lurus mmbri hujjah partai diwlh su...  \n",
      "2      lokasi strategis jalan sumatera bandung nya ny...  \n",
      "3      betapa bahagia nya unboxing paket barang nya b...  \n",
      "4      aduh mahasiswa sombong kasih kartu kuning bela...  \n",
      "...                                                  ...  \n",
      "10995                                             kecewa  \n",
      "10996  enak masakan nya kepiting menyenangkan memilih...  \n",
      "10997                   hormati partai partai berkoalisi  \n",
      "10998    pagi pagi tol pasteur macet parah bikin jengkel  \n",
      "10999  belanja yogya riau junction kali lihat foodlif...  \n",
      "\n",
      "[11000 rows x 3 columns]\n"
     ]
    }
   ],
   "source": [
    "import pandas as pd\n",
    "from normalisasitext import text_preprocessing as tp\n",
    "\n",
    "\n",
    "# Load the data from CSV\n",
    "data_train = pd.read_csv('train_preprocess.csv', sep='\\t', header=None)\n",
    "df_data = data_train.rename(columns={0: 'Text', 1: 'Sentimen'})\n",
    "\n",
    "# Define the preprocessing function\n",
    "def text_preprocessing(text):\n",
    "    return tp(text)\n",
    "\n",
    "# Add the new column to the DataFrame\n",
    "df_data['Text_baru'] = df_data['Text'].apply(text_preprocessing)\n",
    "\n",
    "# Create the final DataFrame with the original columns\n",
    "data_train = df_data[['Text', 'Sentimen']].assign(Text_baru=df_data['Text_baru'])\n",
    "\n",
    "# Display the result\n",
    "print(data_train)\n"
   ]
  }
 ],
 "metadata": {
  "kernelspec": {
   "display_name": "envLEVELPLATINUM",
   "language": "python",
   "name": "python3"
  },
  "language_info": {
   "codemirror_mode": {
    "name": "ipython",
    "version": 3
   },
   "file_extension": ".py",
   "mimetype": "text/x-python",
   "name": "python",
   "nbconvert_exporter": "python",
   "pygments_lexer": "ipython3",
   "version": "3.11.1"
  },
  "orig_nbformat": 4
 },
 "nbformat": 4,
 "nbformat_minor": 2
}
